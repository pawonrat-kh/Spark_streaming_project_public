{
 "cells": [
  {
   "cell_type": "markdown",
   "id": "3ef90399-b8b6-4b74-943d-fe603a13c3ee",
   "metadata": {},
   "source": [
    "## Kafka Real-Time Streaming Project ( Author: Pawonrat Khumngoen )\n",
    "\n",
    "### This Jupyter Notebook demonstrates a real-time data streaming processing using Kafka. After the Kafka producer starts sending messages based on the schema defined in schema.py, the messages are consumed by the Kafka consumer.\n",
    "\n",
    "### These messages are processed in real-time using PySpark, exported to parquet files for downstream, enabling some basic analysis on the incoming data as shown below.\n",
    "\n",
    "##### Link of Structured Streaming Programming Guide: https://spark.apache.org/docs/latest/streaming/structured-streaming-kafka-integration.html"
   ]
  },
  {
   "cell_type": "code",
   "execution_count": null,
   "id": "6956de78-c69c-4025-b9e0-ca21a71159a8",
   "metadata": {},
   "outputs": [],
   "source": [
    "from pyspark.sql import SparkSession\n",
    "from pyspark.sql.types import *\n",
    "from pyspark.sql.functions import col, from_json, sum, count, concat, explode, desc, asc"
   ]
  },
  {
   "cell_type": "code",
   "execution_count": 2,
   "id": "83aa98ff-e1e8-4a73-a5f9-8e602cafd379",
   "metadata": {},
   "outputs": [
    {
     "name": "stderr",
     "output_type": "stream",
     "text": [
      "WARNING: Using incubator modules: jdk.incubator.vector\n",
      ":: loading settings :: url = jar:file:/opt/spark/jars/ivy-2.5.3.jar!/org/apache/ivy/core/settings/ivysettings.xml\n",
      "Ivy Default Cache set to: /root/.ivy2.5.2/cache\n",
      "The jars for the packages stored in: /root/.ivy2.5.2/jars\n",
      "org.apache.spark#spark-sql-kafka-0-10_2.13 added as a dependency\n",
      ":: resolving dependencies :: org.apache.spark#spark-submit-parent-7336ccfb-f1e4-44c8-bf52-1f7be9945cf6;1.0\n",
      "\tconfs: [default]\n",
      "\tfound org.apache.spark#spark-sql-kafka-0-10_2.13;4.0.0 in central\n",
      "\tfound org.apache.spark#spark-token-provider-kafka-0-10_2.13;4.0.0 in central\n",
      "\tfound org.apache.kafka#kafka-clients;3.9.0 in central\n",
      "\tfound org.lz4#lz4-java;1.8.0 in central\n",
      "\tfound org.xerial.snappy#snappy-java;1.1.10.7 in central\n",
      "\tfound org.slf4j#slf4j-api;2.0.16 in central\n",
      "\tfound org.apache.hadoop#hadoop-client-runtime;3.4.1 in central\n",
      "\tfound org.apache.hadoop#hadoop-client-api;3.4.1 in central\n",
      "\tfound com.google.code.findbugs#jsr305;3.0.0 in central\n",
      "\tfound org.scala-lang.modules#scala-parallel-collections_2.13;1.2.0 in central\n",
      "\tfound org.apache.commons#commons-pool2;2.12.0 in central\n",
      ":: resolution report :: resolve 217ms :: artifacts dl 4ms\n",
      "\t:: modules in use:\n",
      "\tcom.google.code.findbugs#jsr305;3.0.0 from central in [default]\n",
      "\torg.apache.commons#commons-pool2;2.12.0 from central in [default]\n",
      "\torg.apache.hadoop#hadoop-client-api;3.4.1 from central in [default]\n",
      "\torg.apache.hadoop#hadoop-client-runtime;3.4.1 from central in [default]\n",
      "\torg.apache.kafka#kafka-clients;3.9.0 from central in [default]\n",
      "\torg.apache.spark#spark-sql-kafka-0-10_2.13;4.0.0 from central in [default]\n",
      "\torg.apache.spark#spark-token-provider-kafka-0-10_2.13;4.0.0 from central in [default]\n",
      "\torg.lz4#lz4-java;1.8.0 from central in [default]\n",
      "\torg.scala-lang.modules#scala-parallel-collections_2.13;1.2.0 from central in [default]\n",
      "\torg.slf4j#slf4j-api;2.0.16 from central in [default]\n",
      "\torg.xerial.snappy#snappy-java;1.1.10.7 from central in [default]\n",
      "\t---------------------------------------------------------------------\n",
      "\t|                  |            modules            ||   artifacts   |\n",
      "\t|       conf       | number| search|dwnlded|evicted|| number|dwnlded|\n",
      "\t---------------------------------------------------------------------\n",
      "\t|      default     |   11  |   0   |   0   |   0   ||   11  |   0   |\n",
      "\t---------------------------------------------------------------------\n",
      ":: retrieving :: org.apache.spark#spark-submit-parent-7336ccfb-f1e4-44c8-bf52-1f7be9945cf6\n",
      "\tconfs: [default]\n",
      "\t0 artifacts copied, 11 already retrieved (0kB/3ms)\n",
      "25/07/26 13:06:02 WARN NativeCodeLoader: Unable to load native-hadoop library for your platform... using builtin-java classes where applicable\n",
      "Using Spark's default log4j profile: org/apache/spark/log4j2-defaults.properties\n",
      "Setting default log level to \"WARN\".\n",
      "To adjust logging level use sc.setLogLevel(newLevel). For SparkR, use setLogLevel(newLevel).\n"
     ]
    }
   ],
   "source": [
    "spark = SparkSession \\\n",
    "        .builder \\\n",
    "        .appName('Kafka_finance_transaction') \\\n",
    "        .config(\"spark.jars.packages\", \"org.apache.spark:spark-sql-kafka-0-10_2.13:4.0.0\") \\\n",
    "        .getOrCreate()"
   ]
  },
  {
   "cell_type": "code",
   "execution_count": null,
   "id": "70d1301c-a0b1-4b52-a375-64eb0af27f6f",
   "metadata": {},
   "outputs": [
    {
     "data": {
      "text/plain": [
       "'4.0.0'"
      ]
     },
     "execution_count": 3,
     "metadata": {},
     "output_type": "execute_result"
    }
   ],
   "source": [
    "# check spark verison, will match 4.0.0 followed by Dockerfile\n",
    "spark.version"
   ]
  },
  {
   "cell_type": "code",
   "execution_count": null,
   "id": "85141d8a-e5f9-4ad1-96ba-f17d9812f2b3",
   "metadata": {},
   "outputs": [],
   "source": [
    "bootstrap_server = 'broker:29092'\n",
    "topic_name = 'financial_transaction_topic'\n",
    "\n",
    "df = spark \\\n",
    "  .read \\\n",
    "  .format(\"kafka\") \\\n",
    "  .option(\"kafka.bootstrap.servers\", bootstrap_server) \\\n",
    "  .option(\"subscribe\", topic_name) \\\n",
    "  .load()\n",
    "\n",
    "# Cast key and value to string format\n",
    "df = df.selectExpr(\"CAST(key AS STRING)\", \"CAST(value AS STRING)\")"
   ]
  },
  {
   "cell_type": "code",
   "execution_count": 5,
   "id": "3464fff0-b009-484f-85db-ffcbcf158e26",
   "metadata": {},
   "outputs": [
    {
     "name": "stdout",
     "output_type": "stream",
     "text": [
      "root\n",
      " |-- key: string (nullable = true)\n",
      " |-- value: string (nullable = true)\n",
      "\n"
     ]
    }
   ],
   "source": [
    "df.printSchema()"
   ]
  },
  {
   "cell_type": "code",
   "execution_count": 6,
   "id": "bf670d5c-0a01-4c4d-95be-571117678b49",
   "metadata": {},
   "outputs": [],
   "source": [
    "# Set schema\n",
    "schema = StructType([\n",
    "    StructField(\"transaction_id\", StringType(), nullable = False),\n",
    "    StructField(\"user_id\", StringType(), nullable = False),\n",
    "    StructField(\"account_id\", StringType(), nullable = False),\n",
    "    StructField(\"transaction_type\", StringType(), nullable = False),\n",
    "    StructField(\"original_amount\", DecimalType(10,2), nullable = False),\n",
    "    StructField(\"amount\", DecimalType(10,2), nullable = False),\n",
    "    StructField(\"currency\", StringType(), nullable = False),\n",
    "    StructField(\"status\", StringType(), nullable = False),\n",
    "    StructField(\"timestamp\", TimestampType(), nullable = False),\n",
    "    StructField(\"description\", StringType(), nullable = False),\n",
    "    StructField(\"recipient_account_id\", StringType(), nullable = True),\n",
    "    StructField(\"recipient_user_id\", StringType(), nullable = True),\n",
    "    StructField(\"fee\", DecimalType(3,2), nullable = False),\n",
    "    StructField(\"currency_rate\", DecimalType(5,2), nullable = False),\n",
    "    StructField(\"location\", StringType(), nullable = True),\n",
    "    StructField(\"merchant_id\", StringType(), nullable = True),\n",
    "    StructField(\"category\", StringType(), nullable = True),\n",
    "    StructField(\"reference_id\", StringType(), nullable = True)])"
   ]
  },
  {
   "cell_type": "code",
   "execution_count": 7,
   "id": "b442788d-a14d-4e76-b6dc-a90628127952",
   "metadata": {},
   "outputs": [],
   "source": [
    "df_parsed = df.select(from_json(col('value'), schema).alias('data'))"
   ]
  },
  {
   "cell_type": "code",
   "execution_count": 8,
   "id": "e29ef779-c478-48f2-9f24-5fb1ab7d720f",
   "metadata": {},
   "outputs": [
    {
     "name": "stdout",
     "output_type": "stream",
     "text": [
      "+--------------------+-----------+------------+----------------+---------------+---------+--------+---------+--------------------+--------------------+--------------------+-----------------+----+-------------+-------------------+-------------+---------------+------------+\n",
      "|      transaction_id|    user_id|  account_id|transaction_type|original_amount|   amount|currency|   status|           timestamp|         description|recipient_account_id|recipient_user_id| fee|currency_rate|           location|  merchant_id|       category|reference_id|\n",
      "+--------------------+-----------+------------+----------------+---------------+---------+--------+---------+--------------------+--------------------+--------------------+-----------------+----+-------------+-------------------+-------------+---------------+------------+\n",
      "|1da7438b-8bb6-415...|user_008329|acc_00035075|        transfer|         234.47|  6904.58|     TWD|completed|2025-07-20 07:23:...|Transfer to Grego...|        acc_00015196|      user_001917|0.00|        29.45|   Taichung, Taiwan|         NULL|online_shopping|    49d5c8ec|\n",
      "|eb9bf164-24ed-41a...|user_000774|acc_00018736|        transfer|        4028.53|595194.96|     JPY|completed|2025-07-22 05:53:...|Transfer to Matth...|        acc_00011401|      user_001386|0.00|       147.75|       Chiba, Japan|         NULL|    gas_station|    f14c2518|\n",
      "|0e1d10e2-cc20-45a...|user_005892|acc_00026442|      withdrawal|         483.31| 14232.42|     TWD|completed|2025-07-22 01:27:...|ATM Withdrawal at...|                NULL|             NULL|0.00|        29.45|       Tokyo, Japan|         NULL|online_shopping|    6667cac4|\n",
      "|1d429324-caca-4bf...|user_007422|acc_00042545|         deposit|        1769.59| 13891.04|     HKD|completed|2025-07-20 03:56:...|Deposit from Sims...|                NULL|             NULL|0.00|         7.85|      Sendai, Japan|         NULL|     investment|    5a716779|\n",
      "|2b3a7b88-d799-403...|user_008667|acc_00017573|         payment|        1650.69| 11831.57|     CNY|completed|2025-07-24 08:27:...|Payment to Adams,...|                NULL|             NULL|0.00|         7.17| Punggol, Singapore|merchant_0883|      education|    19d2266f|\n",
      "|92e53fda-d15a-465...|user_007209|acc_00018505|          refund|          33.95|   999.73|     TWD|completed|2025-07-19 20:23:...|Refund from Wanda...|                NULL|             NULL|0.00|        29.45|    Shanghai, China|         NULL|  entertainment|    5a471403|\n",
      "|3a935c6c-de8a-4dc...|user_005641|acc_00004675|          refund|         251.57|  7408.16|     TWD|completed|2025-07-22 11:54:...|Refund from Dougl...|                NULL|             NULL|0.00|        29.45|   Guangzhou, China|         NULL|     restaurant|    d37b1126|\n",
      "|65e89e76-558d-474...|user_004680|acc_00048355|          refund|         121.78|   955.98|     HKD|completed|2025-07-23 02:22:...|Refund from Jessi...|                NULL|             NULL|0.00|         7.85|Mong Kok, Hong Kong|         NULL|     investment|    afa7f99f|\n",
      "|cd015626-109e-420...|user_002000|acc_00026817|         payment|        1412.08| 10121.32|     CNY|completed|2025-07-23 03:49:...|Payment to Montes...|                NULL|             NULL|0.00|         7.17| Sha Tin, Hong Kong|merchant_0706|   loan_payment|    bef64328|\n",
      "|1b30de2f-7953-4fa...|user_000573|acc_00031427|      withdrawal|         636.60|  4562.90|     CNY|completed|2025-07-21 17:04:...|ATM Withdrawal at...|                NULL|             NULL|0.00|         7.17|       Wuhan, China|         NULL|      groceries|    924ccb9f|\n",
      "+--------------------+-----------+------------+----------------+---------------+---------+--------+---------+--------------------+--------------------+--------------------+-----------------+----+-------------+-------------------+-------------+---------------+------------+\n",
      "\n"
     ]
    }
   ],
   "source": [
    "# Unpack json objects that read from Kafka to struct type\n",
    "df_parsed.select(col('data.*')).limit(10).show()"
   ]
  },
  {
   "cell_type": "markdown",
   "id": "ff14504f-f451-44ba-a83c-019904676d77",
   "metadata": {},
   "source": [
    "### Show total amount, Number of transactions by Transaction type and status"
   ]
  },
  {
   "cell_type": "code",
   "execution_count": 9,
   "id": "7b2bd4a8-cd1c-4d0b-8096-6e9202330a41",
   "metadata": {},
   "outputs": [
    {
     "name": "stderr",
     "output_type": "stream",
     "text": [
      "[Stage 1:>                                                          (0 + 1) / 1]"
     ]
    },
    {
     "name": "stdout",
     "output_type": "stream",
     "text": [
      "+---------+----------------+------------+---------------------+\n",
      "|   status|transaction_type|Total_amount|number_of_transaction|\n",
      "+---------+----------------+------------+---------------------+\n",
      "|cancelled|         deposit|  1467481.71|                    7|\n",
      "|cancelled|         payment|   451646.78|                   11|\n",
      "|cancelled|          refund|   105034.78|                   12|\n",
      "|cancelled|        transfer|   961087.12|                   10|\n",
      "|cancelled|      withdrawal|    51728.05|                   10|\n",
      "|completed|         deposit| 72231264.17|                  385|\n",
      "|completed|         payment| 10723204.05|                  340|\n",
      "|completed|          refund|  3824873.98|                  411|\n",
      "|completed|        transfer| 43046836.99|                  405|\n",
      "|completed|      withdrawal|  7652298.55|                  386|\n",
      "|   failed|         deposit|  2297040.56|                   12|\n",
      "|   failed|         payment|   513908.00|                   13|\n",
      "|   failed|          refund|   139913.27|                   17|\n",
      "|   failed|        transfer|  2607292.67|                   15|\n",
      "|   failed|      withdrawal|   203209.35|                   14|\n",
      "|  pending|         deposit|  7812014.69|                   35|\n",
      "|  pending|         payment|   286952.98|                   16|\n",
      "|  pending|          refund|   177862.38|                   20|\n",
      "|  pending|        transfer|  1503402.90|                   15|\n",
      "|  pending|      withdrawal|   319459.85|                   21|\n",
      "+---------+----------------+------------+---------------------+\n",
      "\n"
     ]
    },
    {
     "name": "stderr",
     "output_type": "stream",
     "text": [
      "                                                                                "
     ]
    }
   ],
   "source": [
    "df_parsed.groupby(col('data.status'), col('data.transaction_type')) \\\n",
    "         .agg(\n",
    "             sum(col('data.amount')).alias('Total_amount'),\n",
    "             count(col('*')).alias('number_of_transaction')\n",
    "         ) \\\n",
    "         .orderBy(asc(col('data.status')), asc(col('data.transaction_type'))).show()"
   ]
  },
  {
   "cell_type": "markdown",
   "id": "0f69f0d0-814c-441c-906a-c26a70afa51c",
   "metadata": {},
   "source": [
    "### Show Number of transactions by Currency"
   ]
  },
  {
   "cell_type": "code",
   "execution_count": 10,
   "id": "81a48604-8cb7-4669-9737-d6889300a8ee",
   "metadata": {},
   "outputs": [
    {
     "name": "stdout",
     "output_type": "stream",
     "text": [
      "+--------+---------------------+\n",
      "|currency|number_of_transaction|\n",
      "+--------+---------------------+\n",
      "|     TWD|                  387|\n",
      "|     THB|                  365|\n",
      "|     CNY|                  358|\n",
      "|     SGD|                  358|\n",
      "|     HKD|                  344|\n",
      "|     JPY|                  343|\n",
      "+--------+---------------------+\n",
      "\n"
     ]
    }
   ],
   "source": [
    "df_parsed.groupby(col('data.currency')).count() \\\n",
    "         .withColumnRenamed('count', 'number_of_transaction') \\\n",
    "         .orderBy(desc('number_of_transaction')) \\\n",
    "         .show()"
   ]
  },
  {
   "cell_type": "markdown",
   "id": "f7512d3e-56af-4478-a394-916ab76a72c7",
   "metadata": {},
   "source": [
    "### Show transactions that do activity more than 5,000 USD per transaction"
   ]
  },
  {
   "cell_type": "code",
   "execution_count": 11,
   "id": "33796342-f7c1-4de9-997c-9004702abc10",
   "metadata": {},
   "outputs": [
    {
     "name": "stdout",
     "output_type": "stream",
     "text": [
      "+-------------------+------------------------+-------------+--------------------+----------------+\n",
      "|transaction_per_usd|transaction_per_currency|currency_type|current_rate_per_usd|transaction_type|\n",
      "+-------------------+------------------------+-------------+--------------------+----------------+\n",
      "|            9791.11|                76858.77|          HKD|                7.85|         deposit|\n",
      "|            5548.55|                43555.30|          HKD|                7.85|         deposit|\n",
      "|            5125.17|               150923.50|          TWD|               29.45|         deposit|\n",
      "|            7660.35|              1131778.80|          JPY|              147.75|         deposit|\n",
      "|            8251.21|                10573.11|          SGD|                1.28|         deposit|\n",
      "|            6102.81|                 7820.15|          SGD|                1.28|         deposit|\n",
      "|            9410.97|              1390423.77|          JPY|              147.75|         deposit|\n",
      "|            5639.22|                44267.00|          HKD|                7.85|         deposit|\n",
      "|            6118.18|               198106.55|          THB|               32.38|         deposit|\n",
      "|            7205.48|              1064573.68|          JPY|              147.75|         deposit|\n",
      "|            5452.82|                39083.93|          CNY|                7.17|         deposit|\n",
      "|            6623.26|                51991.61|          HKD|                7.85|         deposit|\n",
      "|            5195.70|                 6657.77|          SGD|                1.28|         deposit|\n",
      "|            6307.82|               185749.59|          TWD|               29.45|         deposit|\n",
      "|            8113.12|                10396.15|          SGD|                1.28|         deposit|\n",
      "|            7071.10|              1044720.40|          JPY|              147.75|         deposit|\n",
      "|            8588.05|                11004.73|          SGD|                1.28|         deposit|\n",
      "|            8246.03|                64730.11|          HKD|                7.85|         deposit|\n",
      "|            9261.30|                66381.76|          CNY|                7.17|         deposit|\n",
      "|            8585.26|                11001.16|          SGD|                1.28|         deposit|\n",
      "+-------------------+------------------------+-------------+--------------------+----------------+\n",
      "only showing top 20 rows\n"
     ]
    }
   ],
   "source": [
    "df_parsed.select(col('data.original_amount').alias('transaction_per_usd') \\\n",
    "            ,col('data.amount').alias('transaction_per_currency') \\\n",
    "            ,col('data.currency').alias('currency_type') \\\n",
    "            ,col('data.currency_rate').alias('current_rate_per_usd') \\\n",
    "            ,col('data.transaction_type')) \\\n",
    "            .filter(col('data.original_amount')>5000) \\\n",
    "            .show()"
   ]
  },
  {
   "cell_type": "markdown",
   "id": "d78f94a0-4298-4c56-8d15-733452a9b839",
   "metadata": {},
   "source": [
    "### Export data to parquet file"
   ]
  },
  {
   "cell_type": "code",
   "execution_count": 14,
   "id": "ad6fc0ff-cf9b-409a-a41a-1cf1b0f1a02b",
   "metadata": {},
   "outputs": [],
   "source": [
    "df_parsed.select(col('data.*')) \\\n",
    "         .write \\\n",
    "         .option(\"mergeSchema\", \"true\") \\\n",
    "         .mode('append') \\\n",
    "         .parquet('transactions/')"
   ]
  },
  {
   "cell_type": "code",
   "execution_count": null,
   "id": "0fcb1d79-3c2d-4bf1-ac3a-7960f76e0542",
   "metadata": {},
   "outputs": [],
   "source": []
  }
 ],
 "metadata": {
  "kernelspec": {
   "display_name": "Python 3 (ipykernel)",
   "language": "python",
   "name": "python3"
  },
  "language_info": {
   "codemirror_mode": {
    "name": "ipython",
    "version": 3
   },
   "file_extension": ".py",
   "mimetype": "text/x-python",
   "name": "python",
   "nbconvert_exporter": "python",
   "pygments_lexer": "ipython3",
   "version": "3.10.12"
  }
 },
 "nbformat": 4,
 "nbformat_minor": 5
}
